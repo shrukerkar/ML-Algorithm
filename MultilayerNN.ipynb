{
 "cells": [
  {
   "cell_type": "code",
   "execution_count": 1,
   "metadata": {
    "collapsed": true
   },
   "outputs": [],
   "source": [
    "import numpy as np\n"
   ]
  },
  {
   "cell_type": "code",
   "execution_count": 2,
   "metadata": {
    "collapsed": true
   },
   "outputs": [],
   "source": [
    "X=np.array([[1,0,1,0],[1,1,0,0],[1,1,1,1],[0,1,0,1]])"
   ]
  },
  {
   "cell_type": "code",
   "execution_count": 16,
   "metadata": {
    "collapsed": true
   },
   "outputs": [],
   "source": [
    "Y=np.array([[1],[0],[0],[1]])\n"
   ]
  },
  {
   "cell_type": "code",
   "execution_count": 4,
   "metadata": {
    "collapsed": true
   },
   "outputs": [],
   "source": [
    "def sigmoid(x):\n",
    "    return 1/(1+np.exp(-x))"
   ]
  },
  {
   "cell_type": "code",
   "execution_count": 5,
   "metadata": {
    "collapsed": true
   },
   "outputs": [],
   "source": [
    "def derivative_sigmoid(x):\n",
    "    return x*(1-x)"
   ]
  },
  {
   "cell_type": "code",
   "execution_count": 7,
   "metadata": {
    "collapsed": false
   },
   "outputs": [],
   "source": [
    "epochs=1000\n",
    "learning_rate=0.001\n",
    "input_layer_neurons=X.shape[1]\n",
    "hidden_layer_neurons= 4\n",
    "output_layer_neurons=1\n",
    "\n",
    "wh=np.random.uniform(size=(input_layer_neurons,hidden_layer_neurons))\n",
    "bh=np.random.uniform(size=(1,hidden_layer_neurons))\n",
    "wout=np.random.uniform(size=(hidden_layer_neurons,output_layer_neurons))\n",
    "bout=np.random.uniform(size=(1,output_layer_neurons))"
   ]
  },
  {
   "cell_type": "code",
   "execution_count": 8,
   "metadata": {
    "collapsed": false
   },
   "outputs": [
    {
     "name": "stdout",
     "output_type": "stream",
     "text": [
      "[[0.99592551]\n",
      " [0.64102422]\n",
      " [0.23104956]\n",
      " [0.09929162]]\n"
     ]
    }
   ],
   "source": [
    "print(wout)"
   ]
  },
  {
   "cell_type": "code",
   "execution_count": 9,
   "metadata": {
    "collapsed": false
   },
   "outputs": [
    {
     "name": "stdout",
     "output_type": "stream",
     "text": [
      "[[0.02932098]]\n"
     ]
    }
   ],
   "source": [
    "print(bout)"
   ]
  },
  {
   "cell_type": "code",
   "execution_count": 26,
   "metadata": {
    "collapsed": false
   },
   "outputs": [
    {
     "name": "stdout",
     "output_type": "stream",
     "text": [
      "[[0.49706143]\n",
      " [0.50285115]\n",
      " [0.509168  ]\n",
      " [0.50649042]]\n",
      "-0.3892749880795604\n"
     ]
    }
   ],
   "source": [
    "for i in range(epochs):\n",
    "    #Forward\n",
    "    hidden_layer_input1=np.dot(wh,X)\n",
    "    hidden_layer_input=hidden_layer_input1+bh\n",
    "    hidden_layer_activation=sigmoid(hidden_layer_input)\n",
    "    output_layer_input=np.dot(hidden_layer_activation,wout)+bout\n",
    "    output=sigmoid(output_layer_input)\n",
    "    \n",
    "    #Backword\n",
    "    E=Y-output\n",
    "    slop_output_layer=derivative_sigmoid(output)\n",
    "    slop_hidden_layer=derivative_sigmoid(hidden_layer_activation)\n",
    "    d_output=E*slop_output_layer\n",
    "    Error_at_hidden_layer=d_output.dot(wout.T)\n",
    "    d_error_at_hidden_layer=Error_at_hidden_layer*slop_hidden_layer\n",
    "    wout+=np.dot(hidden_layer_activation.T,d_output)*learning_rate\n",
    "    wh+=+np.dot(X.T,d_error_at_hidden_layer)*learning_rate\n",
    "    bh+=+np.sum(d_error_at_hidden_layer,axis=0,keepdims=True)*learning_rate\n",
    "    bout+=+np.sum(d_output,axis=0,keepdims=True)*learning_rate\n",
    "print(output)\n",
    "\n",
    "    "
   ]
  },
  {
   "cell_type": "code",
   "execution_count": null,
   "metadata": {
    "collapsed": true
   },
   "outputs": [],
   "source": []
  }
 ],
 "metadata": {
  "kernelspec": {
   "display_name": "Python [conda env:anaconda]",
   "language": "python",
   "name": "conda-env-anaconda-py"
  },
  "language_info": {
   "codemirror_mode": {
    "name": "ipython",
    "version": 2
   },
   "file_extension": ".py",
   "mimetype": "text/x-python",
   "name": "python",
   "nbconvert_exporter": "python",
   "pygments_lexer": "ipython2",
   "version": "2.7.12"
  }
 },
 "nbformat": 4,
 "nbformat_minor": 1
}
